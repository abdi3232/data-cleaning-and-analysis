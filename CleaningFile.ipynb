{
 "cells": [
  {
   "cell_type": "code",
   "execution_count": 1,
   "id": "cfad7ade-d552-4c86-9561-b710421d9f21",
   "metadata": {},
   "outputs": [],
   "source": [
    "import pandas as pd\n",
    "import numpy as np"
   ]
  },
  {
   "cell_type": "code",
   "execution_count": 2,
   "id": "9a1403a0-84da-4096-b0bd-3766b219e641",
   "metadata": {},
   "outputs": [],
   "source": [
    "df = pd.read_csv('dirty_cafe_sales.csv')"
   ]
  },
  {
   "cell_type": "code",
   "execution_count": 3,
   "id": "33fbbc3b-10a7-4462-a8dc-d358690f1cdf",
   "metadata": {},
   "outputs": [
    {
     "data": {
      "text/html": [
       "<div>\n",
       "<style scoped>\n",
       "    .dataframe tbody tr th:only-of-type {\n",
       "        vertical-align: middle;\n",
       "    }\n",
       "\n",
       "    .dataframe tbody tr th {\n",
       "        vertical-align: top;\n",
       "    }\n",
       "\n",
       "    .dataframe thead th {\n",
       "        text-align: right;\n",
       "    }\n",
       "</style>\n",
       "<table border=\"1\" class=\"dataframe\">\n",
       "  <thead>\n",
       "    <tr style=\"text-align: right;\">\n",
       "      <th></th>\n",
       "      <th>Transaction ID</th>\n",
       "      <th>Item</th>\n",
       "      <th>Quantity</th>\n",
       "      <th>Price Per Unit</th>\n",
       "      <th>Total Spent</th>\n",
       "      <th>Payment Method</th>\n",
       "      <th>Location</th>\n",
       "      <th>Transaction Date</th>\n",
       "    </tr>\n",
       "  </thead>\n",
       "  <tbody>\n",
       "    <tr>\n",
       "      <th>0</th>\n",
       "      <td>TXN_1961373</td>\n",
       "      <td>Coffee</td>\n",
       "      <td>2</td>\n",
       "      <td>2.0</td>\n",
       "      <td>4.0</td>\n",
       "      <td>Credit Card</td>\n",
       "      <td>Takeaway</td>\n",
       "      <td>2023-09-08</td>\n",
       "    </tr>\n",
       "    <tr>\n",
       "      <th>1</th>\n",
       "      <td>TXN_4977031</td>\n",
       "      <td>Cake</td>\n",
       "      <td>4</td>\n",
       "      <td>3.0</td>\n",
       "      <td>12.0</td>\n",
       "      <td>Cash</td>\n",
       "      <td>In-store</td>\n",
       "      <td>2023-05-16</td>\n",
       "    </tr>\n",
       "    <tr>\n",
       "      <th>2</th>\n",
       "      <td>TXN_4271903</td>\n",
       "      <td>Cookie</td>\n",
       "      <td>4</td>\n",
       "      <td>1.0</td>\n",
       "      <td>ERROR</td>\n",
       "      <td>Credit Card</td>\n",
       "      <td>In-store</td>\n",
       "      <td>2023-07-19</td>\n",
       "    </tr>\n",
       "    <tr>\n",
       "      <th>3</th>\n",
       "      <td>TXN_7034554</td>\n",
       "      <td>Salad</td>\n",
       "      <td>2</td>\n",
       "      <td>5.0</td>\n",
       "      <td>10.0</td>\n",
       "      <td>UNKNOWN</td>\n",
       "      <td>UNKNOWN</td>\n",
       "      <td>2023-04-27</td>\n",
       "    </tr>\n",
       "    <tr>\n",
       "      <th>4</th>\n",
       "      <td>TXN_3160411</td>\n",
       "      <td>Coffee</td>\n",
       "      <td>2</td>\n",
       "      <td>2.0</td>\n",
       "      <td>4.0</td>\n",
       "      <td>Digital Wallet</td>\n",
       "      <td>In-store</td>\n",
       "      <td>2023-06-11</td>\n",
       "    </tr>\n",
       "    <tr>\n",
       "      <th>...</th>\n",
       "      <td>...</td>\n",
       "      <td>...</td>\n",
       "      <td>...</td>\n",
       "      <td>...</td>\n",
       "      <td>...</td>\n",
       "      <td>...</td>\n",
       "      <td>...</td>\n",
       "      <td>...</td>\n",
       "    </tr>\n",
       "    <tr>\n",
       "      <th>9995</th>\n",
       "      <td>TXN_7672686</td>\n",
       "      <td>Coffee</td>\n",
       "      <td>2</td>\n",
       "      <td>2.0</td>\n",
       "      <td>4.0</td>\n",
       "      <td>NaN</td>\n",
       "      <td>UNKNOWN</td>\n",
       "      <td>2023-08-30</td>\n",
       "    </tr>\n",
       "    <tr>\n",
       "      <th>9996</th>\n",
       "      <td>TXN_9659401</td>\n",
       "      <td>NaN</td>\n",
       "      <td>3</td>\n",
       "      <td>NaN</td>\n",
       "      <td>3.0</td>\n",
       "      <td>Digital Wallet</td>\n",
       "      <td>NaN</td>\n",
       "      <td>2023-06-02</td>\n",
       "    </tr>\n",
       "    <tr>\n",
       "      <th>9997</th>\n",
       "      <td>TXN_5255387</td>\n",
       "      <td>Coffee</td>\n",
       "      <td>4</td>\n",
       "      <td>2.0</td>\n",
       "      <td>8.0</td>\n",
       "      <td>Digital Wallet</td>\n",
       "      <td>NaN</td>\n",
       "      <td>2023-03-02</td>\n",
       "    </tr>\n",
       "    <tr>\n",
       "      <th>9998</th>\n",
       "      <td>TXN_7695629</td>\n",
       "      <td>Cookie</td>\n",
       "      <td>3</td>\n",
       "      <td>NaN</td>\n",
       "      <td>3.0</td>\n",
       "      <td>Digital Wallet</td>\n",
       "      <td>NaN</td>\n",
       "      <td>2023-12-02</td>\n",
       "    </tr>\n",
       "    <tr>\n",
       "      <th>9999</th>\n",
       "      <td>TXN_6170729</td>\n",
       "      <td>Sandwich</td>\n",
       "      <td>3</td>\n",
       "      <td>4.0</td>\n",
       "      <td>12.0</td>\n",
       "      <td>Cash</td>\n",
       "      <td>In-store</td>\n",
       "      <td>2023-11-07</td>\n",
       "    </tr>\n",
       "  </tbody>\n",
       "</table>\n",
       "<p>10000 rows × 8 columns</p>\n",
       "</div>"
      ],
      "text/plain": [
       "     Transaction ID      Item Quantity Price Per Unit Total Spent  \\\n",
       "0       TXN_1961373    Coffee        2            2.0         4.0   \n",
       "1       TXN_4977031      Cake        4            3.0        12.0   \n",
       "2       TXN_4271903    Cookie        4            1.0       ERROR   \n",
       "3       TXN_7034554     Salad        2            5.0        10.0   \n",
       "4       TXN_3160411    Coffee        2            2.0         4.0   \n",
       "...             ...       ...      ...            ...         ...   \n",
       "9995    TXN_7672686    Coffee        2            2.0         4.0   \n",
       "9996    TXN_9659401       NaN        3            NaN         3.0   \n",
       "9997    TXN_5255387    Coffee        4            2.0         8.0   \n",
       "9998    TXN_7695629    Cookie        3            NaN         3.0   \n",
       "9999    TXN_6170729  Sandwich        3            4.0        12.0   \n",
       "\n",
       "      Payment Method  Location Transaction Date  \n",
       "0        Credit Card  Takeaway       2023-09-08  \n",
       "1               Cash  In-store       2023-05-16  \n",
       "2        Credit Card  In-store       2023-07-19  \n",
       "3            UNKNOWN   UNKNOWN       2023-04-27  \n",
       "4     Digital Wallet  In-store       2023-06-11  \n",
       "...              ...       ...              ...  \n",
       "9995             NaN   UNKNOWN       2023-08-30  \n",
       "9996  Digital Wallet       NaN       2023-06-02  \n",
       "9997  Digital Wallet       NaN       2023-03-02  \n",
       "9998  Digital Wallet       NaN       2023-12-02  \n",
       "9999            Cash  In-store       2023-11-07  \n",
       "\n",
       "[10000 rows x 8 columns]"
      ]
     },
     "execution_count": 3,
     "metadata": {},
     "output_type": "execute_result"
    }
   ],
   "source": [
    "df"
   ]
  },
  {
   "cell_type": "code",
   "execution_count": 4,
   "id": "dba6be71-c606-4cc6-bf05-6d4164279c38",
   "metadata": {},
   "outputs": [
    {
     "name": "stdout",
     "output_type": "stream",
     "text": [
      "<class 'pandas.core.frame.DataFrame'>\n",
      "RangeIndex: 10000 entries, 0 to 9999\n",
      "Data columns (total 8 columns):\n",
      " #   Column            Non-Null Count  Dtype \n",
      "---  ------            --------------  ----- \n",
      " 0   Transaction ID    10000 non-null  object\n",
      " 1   Item              9667 non-null   object\n",
      " 2   Quantity          9862 non-null   object\n",
      " 3   Price Per Unit    9821 non-null   object\n",
      " 4   Total Spent       9827 non-null   object\n",
      " 5   Payment Method    7421 non-null   object\n",
      " 6   Location          6735 non-null   object\n",
      " 7   Transaction Date  9841 non-null   object\n",
      "dtypes: object(8)\n",
      "memory usage: 625.1+ KB\n"
     ]
    }
   ],
   "source": [
    "df.info()"
   ]
  },
  {
   "cell_type": "code",
   "execution_count": 5,
   "id": "0de9c158-14ca-4182-a2b0-32601d92f397",
   "metadata": {},
   "outputs": [
    {
     "data": {
      "text/plain": [
       "Item\n",
       "Juice       1171\n",
       "Coffee      1165\n",
       "Salad       1148\n",
       "Cake        1139\n",
       "Sandwich    1131\n",
       "Smoothie    1096\n",
       "Cookie      1092\n",
       "Tea         1089\n",
       "UNKNOWN      344\n",
       "ERROR        292\n",
       "Name: count, dtype: int64"
      ]
     },
     "execution_count": 5,
     "metadata": {},
     "output_type": "execute_result"
    }
   ],
   "source": [
    "df[\"Item\"].value_counts()"
   ]
  },
  {
   "cell_type": "code",
   "execution_count": 6,
   "id": "11cfb0bf-249e-498f-9560-c1f622446d80",
   "metadata": {},
   "outputs": [],
   "source": [
    "df[\"Item\"]=df[\"Item\"].replace(\"UNKNOWN\",np.nan)"
   ]
  },
  {
   "cell_type": "code",
   "execution_count": 7,
   "id": "7232e471-1548-4f7a-8e6e-9b1e5cee73ed",
   "metadata": {},
   "outputs": [],
   "source": [
    "df[\"Item\"]=df[\"Item\"].replace(\"ERROR\",np.nan)"
   ]
  },
  {
   "cell_type": "code",
   "execution_count": 8,
   "id": "b43b68f9-4dfe-45c2-946c-c8bcebd5dcc6",
   "metadata": {},
   "outputs": [
    {
     "data": {
      "text/plain": [
       "Location\n",
       "Takeaway    3022\n",
       "In-store    3017\n",
       "ERROR        358\n",
       "UNKNOWN      338\n",
       "Name: count, dtype: int64"
      ]
     },
     "execution_count": 8,
     "metadata": {},
     "output_type": "execute_result"
    }
   ],
   "source": [
    "df[\"Location\"].value_counts()"
   ]
  },
  {
   "cell_type": "code",
   "execution_count": 9,
   "id": "bfb2bf5c-bb2b-4d88-a2e0-d42a806fab6d",
   "metadata": {},
   "outputs": [],
   "source": [
    "df[\"Location\"]=df[\"Location\"].replace(\"UNKNOWN\",np.nan)"
   ]
  },
  {
   "cell_type": "code",
   "execution_count": 10,
   "id": "58f1ad4d-376f-4b14-ae9d-1fec5728380b",
   "metadata": {},
   "outputs": [],
   "source": [
    "df[\"Location\"]=df[\"Location\"].replace(\"ERROR\",np.nan)"
   ]
  },
  {
   "cell_type": "code",
   "execution_count": 11,
   "id": "7ed0eb16-bbb0-49f6-9f4d-c1426b2e0e12",
   "metadata": {},
   "outputs": [
    {
     "data": {
      "text/plain": [
       "Payment Method\n",
       "Digital Wallet    2291\n",
       "Credit Card       2273\n",
       "Cash              2258\n",
       "ERROR              306\n",
       "UNKNOWN            293\n",
       "Name: count, dtype: int64"
      ]
     },
     "execution_count": 11,
     "metadata": {},
     "output_type": "execute_result"
    }
   ],
   "source": [
    "df[\"Payment Method\"].value_counts()"
   ]
  },
  {
   "cell_type": "code",
   "execution_count": 12,
   "id": "3fddd8f3-2226-4cc5-acbc-5b5c693db150",
   "metadata": {},
   "outputs": [],
   "source": [
    "df[\"Payment Method\"]=df[\"Payment Method\"].replace(\"UNKNOWN\",np.nan)"
   ]
  },
  {
   "cell_type": "code",
   "execution_count": 13,
   "id": "00be5d6f-81bc-4d46-8dfa-5600d239ea48",
   "metadata": {},
   "outputs": [],
   "source": [
    "df[\"Payment Method\"]=df[\"Payment Method\"].replace(\"ERROR\",np.nan)"
   ]
  },
  {
   "cell_type": "code",
   "execution_count": 14,
   "id": "ca6cdc4b-193d-4a4c-ace4-df4c40ac345d",
   "metadata": {},
   "outputs": [
    {
     "data": {
      "text/plain": [
       "Price Per Unit\n",
       "3.0        2429\n",
       "4.0        2331\n",
       "2.0        1227\n",
       "5.0        1204\n",
       "1.0        1143\n",
       "1.5        1133\n",
       "ERROR       190\n",
       "UNKNOWN     164\n",
       "Name: count, dtype: int64"
      ]
     },
     "execution_count": 14,
     "metadata": {},
     "output_type": "execute_result"
    }
   ],
   "source": [
    "df[\"Price Per Unit\"].value_counts()"
   ]
  },
  {
   "cell_type": "code",
   "execution_count": 15,
   "id": "60c5f07b-797d-4a93-9254-54c2ff6db527",
   "metadata": {},
   "outputs": [],
   "source": [
    "df[\"Price Per Unit\"]=df[\"Price Per Unit\"].replace(\"UNKNOWN\",np.nan)"
   ]
  },
  {
   "cell_type": "code",
   "execution_count": 16,
   "id": "e87df553-610e-4fac-9301-288d43b94807",
   "metadata": {},
   "outputs": [],
   "source": [
    "df[\"Price Per Unit\"]=df[\"Price Per Unit\"].replace(\"ERROR\",np.nan)"
   ]
  },
  {
   "cell_type": "code",
   "execution_count": 17,
   "id": "b16e97b0-fc5d-4495-a392-4760f73819ff",
   "metadata": {},
   "outputs": [
    {
     "data": {
      "text/plain": [
       "Quantity\n",
       "5          2013\n",
       "2          1974\n",
       "4          1863\n",
       "3          1849\n",
       "1          1822\n",
       "UNKNOWN     171\n",
       "ERROR       170\n",
       "Name: count, dtype: int64"
      ]
     },
     "execution_count": 17,
     "metadata": {},
     "output_type": "execute_result"
    }
   ],
   "source": [
    "df[\"Quantity\"].value_counts()"
   ]
  },
  {
   "cell_type": "code",
   "execution_count": 18,
   "id": "0db00a9f-85bd-4b70-8635-8ccbd4c60756",
   "metadata": {},
   "outputs": [],
   "source": [
    "df[\"Quantity\"]=df[\"Quantity\"].replace(\"UNKNOWN\",np.nan)"
   ]
  },
  {
   "cell_type": "code",
   "execution_count": 19,
   "id": "625ed1e0-ed8a-448c-8534-3cb29ff52d91",
   "metadata": {},
   "outputs": [],
   "source": [
    "df[\"Quantity\"]=df[\"Quantity\"].replace(\"ERROR\",np.nan)"
   ]
  },
  {
   "cell_type": "code",
   "execution_count": 20,
   "id": "eea88af8-3da9-412c-a285-93eb33015be1",
   "metadata": {},
   "outputs": [
    {
     "data": {
      "text/plain": [
       "Total Spent\n",
       "6.0        979\n",
       "12.0       939\n",
       "3.0        930\n",
       "4.0        923\n",
       "20.0       746\n",
       "15.0       734\n",
       "8.0        677\n",
       "10.0       524\n",
       "2.0        497\n",
       "9.0        479\n",
       "5.0        468\n",
       "16.0       444\n",
       "25.0       259\n",
       "7.5        237\n",
       "1.0        232\n",
       "4.5        225\n",
       "1.5        205\n",
       "UNKNOWN    165\n",
       "ERROR      164\n",
       "Name: count, dtype: int64"
      ]
     },
     "execution_count": 20,
     "metadata": {},
     "output_type": "execute_result"
    }
   ],
   "source": [
    "df[\"Total Spent\"].value_counts()"
   ]
  },
  {
   "cell_type": "code",
   "execution_count": 21,
   "id": "c44b5b3e-3aa5-4995-b4f7-ab5957332703",
   "metadata": {},
   "outputs": [],
   "source": [
    "df[\"Total Spent\"]=df[\"Total Spent\"].replace(\"UNKNOWN\",np.nan)"
   ]
  },
  {
   "cell_type": "code",
   "execution_count": 22,
   "id": "4265f416-5581-40bf-b3fd-bfd502be5c05",
   "metadata": {},
   "outputs": [],
   "source": [
    "df[\"Total Spent\"]=df[\"Total Spent\"].replace(\"ERROR\",np.nan)"
   ]
  },
  {
   "cell_type": "code",
   "execution_count": 23,
   "id": "a67c215f-7d11-4be7-81f9-6008745cad69",
   "metadata": {},
   "outputs": [
    {
     "data": {
      "text/plain": [
       "Transaction Date\n",
       "UNKNOWN       159\n",
       "ERROR         142\n",
       "2023-06-16     40\n",
       "2023-02-06     40\n",
       "2023-07-21     39\n",
       "             ... \n",
       "2023-04-27     15\n",
       "2023-09-24     15\n",
       "2023-07-22     14\n",
       "2023-03-11     14\n",
       "2023-02-17     14\n",
       "Name: count, Length: 367, dtype: int64"
      ]
     },
     "execution_count": 23,
     "metadata": {},
     "output_type": "execute_result"
    }
   ],
   "source": [
    "df[\"Transaction Date\"].value_counts()"
   ]
  },
  {
   "cell_type": "code",
   "execution_count": 24,
   "id": "882df32c-875e-4bed-8fd3-02d0f4efd0c5",
   "metadata": {},
   "outputs": [],
   "source": [
    "df[\"Transaction Date\"]=df[\"Transaction Date\"].replace(\"UNKNOWN\",np.nan)"
   ]
  },
  {
   "cell_type": "code",
   "execution_count": 25,
   "id": "f9477f68-35e3-4f44-863a-b15de7cb2942",
   "metadata": {},
   "outputs": [],
   "source": [
    "df[\"Transaction Date\"]=df[\"Transaction Date\"].replace(\"ERROR\",np.nan)"
   ]
  },
  {
   "cell_type": "code",
   "execution_count": 26,
   "id": "6c4a096e-6323-4804-8293-c99fbfb14575",
   "metadata": {},
   "outputs": [],
   "source": [
    "df[\"Transaction Date\"]=pd.to_datetime(df[\"Transaction Date\"])"
   ]
  },
  {
   "cell_type": "code",
   "execution_count": 27,
   "id": "053aca3b-c480-4414-9696-541930fdc18a",
   "metadata": {},
   "outputs": [
    {
     "data": {
      "text/plain": [
       "Transaction ID\n",
       "TXN_1961373    1\n",
       "TXN_4831525    1\n",
       "TXN_1228927    1\n",
       "TXN_6486912    1\n",
       "TXN_3447069    1\n",
       "              ..\n",
       "TXN_5680238    1\n",
       "TXN_7766134    1\n",
       "TXN_2617257    1\n",
       "TXN_8993132    1\n",
       "TXN_6170729    1\n",
       "Name: count, Length: 10000, dtype: int64"
      ]
     },
     "execution_count": 27,
     "metadata": {},
     "output_type": "execute_result"
    }
   ],
   "source": [
    "df[\"Transaction ID\"].value_counts()"
   ]
  },
  {
   "cell_type": "code",
   "execution_count": 28,
   "id": "992c4945-2d5d-4540-ac09-1e4b755647ea",
   "metadata": {},
   "outputs": [
    {
     "data": {
      "text/plain": [
       "Transaction ID         0\n",
       "Item                 969\n",
       "Quantity             479\n",
       "Price Per Unit       533\n",
       "Total Spent          502\n",
       "Payment Method      3178\n",
       "Location            3961\n",
       "Transaction Date     460\n",
       "dtype: int64"
      ]
     },
     "execution_count": 28,
     "metadata": {},
     "output_type": "execute_result"
    }
   ],
   "source": [
    "df.isna().sum()"
   ]
  },
  {
   "cell_type": "code",
   "execution_count": 29,
   "id": "b180f9bd-df91-4f69-9d2d-d0daa966e8a4",
   "metadata": {},
   "outputs": [],
   "source": [
    "df=df.sort_values(by = \"Transaction Date\")"
   ]
  },
  {
   "cell_type": "code",
   "execution_count": 30,
   "id": "9a61adc8-109a-434b-94dd-e24b0f5c7e72",
   "metadata": {},
   "outputs": [],
   "source": [
    "df=df.set_index(\"Transaction Date\")"
   ]
  },
  {
   "cell_type": "code",
   "execution_count": 31,
   "id": "93fd6b93-e991-486e-99d1-9649e238acc4",
   "metadata": {},
   "outputs": [
    {
     "data": {
      "text/html": [
       "<div>\n",
       "<style scoped>\n",
       "    .dataframe tbody tr th:only-of-type {\n",
       "        vertical-align: middle;\n",
       "    }\n",
       "\n",
       "    .dataframe tbody tr th {\n",
       "        vertical-align: top;\n",
       "    }\n",
       "\n",
       "    .dataframe thead th {\n",
       "        text-align: right;\n",
       "    }\n",
       "</style>\n",
       "<table border=\"1\" class=\"dataframe\">\n",
       "  <thead>\n",
       "    <tr style=\"text-align: right;\">\n",
       "      <th></th>\n",
       "      <th>Transaction ID</th>\n",
       "      <th>Item</th>\n",
       "      <th>Quantity</th>\n",
       "      <th>Price Per Unit</th>\n",
       "      <th>Total Spent</th>\n",
       "      <th>Payment Method</th>\n",
       "      <th>Location</th>\n",
       "    </tr>\n",
       "    <tr>\n",
       "      <th>Transaction Date</th>\n",
       "      <th></th>\n",
       "      <th></th>\n",
       "      <th></th>\n",
       "      <th></th>\n",
       "      <th></th>\n",
       "      <th></th>\n",
       "      <th></th>\n",
       "    </tr>\n",
       "  </thead>\n",
       "  <tbody>\n",
       "    <tr>\n",
       "      <th>2023-01-01</th>\n",
       "      <td>TXN_4801947</td>\n",
       "      <td>Juice</td>\n",
       "      <td>1</td>\n",
       "      <td>3.0</td>\n",
       "      <td>3.0</td>\n",
       "      <td>Digital Wallet</td>\n",
       "      <td>Takeaway</td>\n",
       "    </tr>\n",
       "    <tr>\n",
       "      <th>2023-01-01</th>\n",
       "      <td>TXN_9161256</td>\n",
       "      <td>Smoothie</td>\n",
       "      <td>2</td>\n",
       "      <td>4.0</td>\n",
       "      <td>8.0</td>\n",
       "      <td>Digital Wallet</td>\n",
       "      <td>In-store</td>\n",
       "    </tr>\n",
       "    <tr>\n",
       "      <th>2023-01-01</th>\n",
       "      <td>TXN_6093955</td>\n",
       "      <td>Tea</td>\n",
       "      <td>5</td>\n",
       "      <td>1.5</td>\n",
       "      <td>NaN</td>\n",
       "      <td>NaN</td>\n",
       "      <td>Takeaway</td>\n",
       "    </tr>\n",
       "    <tr>\n",
       "      <th>2023-01-01</th>\n",
       "      <td>TXN_8842223</td>\n",
       "      <td>Sandwich</td>\n",
       "      <td>5</td>\n",
       "      <td>NaN</td>\n",
       "      <td>20.0</td>\n",
       "      <td>Digital Wallet</td>\n",
       "      <td>In-store</td>\n",
       "    </tr>\n",
       "    <tr>\n",
       "      <th>2023-01-01</th>\n",
       "      <td>TXN_7367474</td>\n",
       "      <td>Juice</td>\n",
       "      <td>5</td>\n",
       "      <td>3.0</td>\n",
       "      <td>15.0</td>\n",
       "      <td>Digital Wallet</td>\n",
       "      <td>Takeaway</td>\n",
       "    </tr>\n",
       "    <tr>\n",
       "      <th>...</th>\n",
       "      <td>...</td>\n",
       "      <td>...</td>\n",
       "      <td>...</td>\n",
       "      <td>...</td>\n",
       "      <td>...</td>\n",
       "      <td>...</td>\n",
       "      <td>...</td>\n",
       "    </tr>\n",
       "    <tr>\n",
       "      <th>NaT</th>\n",
       "      <td>TXN_9460419</td>\n",
       "      <td>Cake</td>\n",
       "      <td>1</td>\n",
       "      <td>3.0</td>\n",
       "      <td>3.0</td>\n",
       "      <td>NaN</td>\n",
       "      <td>Takeaway</td>\n",
       "    </tr>\n",
       "    <tr>\n",
       "      <th>NaT</th>\n",
       "      <td>TXN_8253472</td>\n",
       "      <td>Cake</td>\n",
       "      <td>1</td>\n",
       "      <td>3.0</td>\n",
       "      <td>3.0</td>\n",
       "      <td>NaN</td>\n",
       "      <td>NaN</td>\n",
       "    </tr>\n",
       "    <tr>\n",
       "      <th>NaT</th>\n",
       "      <td>TXN_3130865</td>\n",
       "      <td>Juice</td>\n",
       "      <td>3</td>\n",
       "      <td>3.0</td>\n",
       "      <td>9.0</td>\n",
       "      <td>NaN</td>\n",
       "      <td>In-store</td>\n",
       "    </tr>\n",
       "    <tr>\n",
       "      <th>NaT</th>\n",
       "      <td>TXN_9226047</td>\n",
       "      <td>Smoothie</td>\n",
       "      <td>3</td>\n",
       "      <td>4.0</td>\n",
       "      <td>12.0</td>\n",
       "      <td>Cash</td>\n",
       "      <td>NaN</td>\n",
       "    </tr>\n",
       "    <tr>\n",
       "      <th>NaT</th>\n",
       "      <td>TXN_9594133</td>\n",
       "      <td>Cake</td>\n",
       "      <td>5</td>\n",
       "      <td>3.0</td>\n",
       "      <td>NaN</td>\n",
       "      <td>NaN</td>\n",
       "      <td>NaN</td>\n",
       "    </tr>\n",
       "  </tbody>\n",
       "</table>\n",
       "<p>10000 rows × 7 columns</p>\n",
       "</div>"
      ],
      "text/plain": [
       "                 Transaction ID      Item Quantity Price Per Unit Total Spent  \\\n",
       "Transaction Date                                                                \n",
       "2023-01-01          TXN_4801947     Juice        1            3.0         3.0   \n",
       "2023-01-01          TXN_9161256  Smoothie        2            4.0         8.0   \n",
       "2023-01-01          TXN_6093955       Tea        5            1.5         NaN   \n",
       "2023-01-01          TXN_8842223  Sandwich        5            NaN        20.0   \n",
       "2023-01-01          TXN_7367474     Juice        5            3.0        15.0   \n",
       "...                         ...       ...      ...            ...         ...   \n",
       "NaT                 TXN_9460419      Cake        1            3.0         3.0   \n",
       "NaT                 TXN_8253472      Cake        1            3.0         3.0   \n",
       "NaT                 TXN_3130865     Juice        3            3.0         9.0   \n",
       "NaT                 TXN_9226047  Smoothie        3            4.0        12.0   \n",
       "NaT                 TXN_9594133      Cake        5            3.0         NaN   \n",
       "\n",
       "                  Payment Method  Location  \n",
       "Transaction Date                            \n",
       "2023-01-01        Digital Wallet  Takeaway  \n",
       "2023-01-01        Digital Wallet  In-store  \n",
       "2023-01-01                   NaN  Takeaway  \n",
       "2023-01-01        Digital Wallet  In-store  \n",
       "2023-01-01        Digital Wallet  Takeaway  \n",
       "...                          ...       ...  \n",
       "NaT                          NaN  Takeaway  \n",
       "NaT                          NaN       NaN  \n",
       "NaT                          NaN  In-store  \n",
       "NaT                         Cash       NaN  \n",
       "NaT                          NaN       NaN  \n",
       "\n",
       "[10000 rows x 7 columns]"
      ]
     },
     "execution_count": 31,
     "metadata": {},
     "output_type": "execute_result"
    }
   ],
   "source": [
    "df"
   ]
  },
  {
   "cell_type": "code",
   "execution_count": 32,
   "id": "b869bad5-0058-493f-a15e-d03e5c3734a7",
   "metadata": {},
   "outputs": [],
   "source": [
    "PPI_dict={'Coffee':2.0,'Tea':1.5,'Sandwich':4.0,'Salad':5.0,'Cake':3.0,'Cookie':1.0,'Smoothie':4.0,'Juice':3.0}\n"
   ]
  },
  {
   "cell_type": "code",
   "execution_count": 33,
   "id": "8e5e92d8-e4f5-4c20-8d7b-e8ae2e4ff63f",
   "metadata": {},
   "outputs": [],
   "source": [
    "Item_dict={2.0:'Coffee',1.5:'Tea',4.0:'Sandwich',5.0:'Salad',3.0:'Cake',1.0:'Cookie',4.0:'Smoothie',3.0:'Juice'}"
   ]
  },
  {
   "cell_type": "code",
   "execution_count": 34,
   "id": "7f2e551e-197d-490d-acc2-823c03f70832",
   "metadata": {},
   "outputs": [],
   "source": [
    "df[\"Price Per Unit\"] = df[\"Item\"].map(PPI_dict).fillna(df[\"Price Per Unit\"])"
   ]
  },
  {
   "cell_type": "code",
   "execution_count": 35,
   "id": "fd27b8a7-0373-4647-b98e-1d4c30f6cd7b",
   "metadata": {},
   "outputs": [
    {
     "data": {
      "text/plain": [
       "Transaction ID       0\n",
       "Item               969\n",
       "Quantity           479\n",
       "Price Per Unit      54\n",
       "Total Spent        502\n",
       "Payment Method    3178\n",
       "Location          3961\n",
       "dtype: int64"
      ]
     },
     "execution_count": 35,
     "metadata": {},
     "output_type": "execute_result"
    }
   ],
   "source": [
    "df.isna().sum()"
   ]
  },
  {
   "cell_type": "code",
   "execution_count": 36,
   "id": "84e413d9-65ef-4056-929d-349b66a406ee",
   "metadata": {},
   "outputs": [],
   "source": [
    "df['Quantity']=df['Quantity'].astype(float)"
   ]
  },
  {
   "cell_type": "code",
   "execution_count": 37,
   "id": "f417f4cd-5673-4b37-8c26-ee5ed1621540",
   "metadata": {},
   "outputs": [],
   "source": [
    "df['Price Per Unit']=df['Price Per Unit'].astype(float)"
   ]
  },
  {
   "cell_type": "code",
   "execution_count": 38,
   "id": "64c0a786-738a-40b2-811d-4ba2e3e9a640",
   "metadata": {},
   "outputs": [],
   "source": [
    "df['Total Spent']=df.apply(\n",
    "    lambda row: row['Quantity']*row['Price Per Unit']\n",
    "    if pd.notna(row['Quantity']) and pd.notna(row['Price Per Unit'])\n",
    "    else None,\n",
    "    axis = 1\n",
    ")"
   ]
  },
  {
   "cell_type": "code",
   "execution_count": 39,
   "id": "e7d317d2-9d08-4793-b765-8c8e12829890",
   "metadata": {},
   "outputs": [],
   "source": [
    "df[\"Item\"] = df[\"Price Per Unit\"].map(Item_dict).fillna(df[\"Item\"])"
   ]
  },
  {
   "cell_type": "code",
   "execution_count": 40,
   "id": "38d31656-7a95-4559-88e0-b85c4a94a37b",
   "metadata": {},
   "outputs": [
    {
     "data": {
      "text/plain": [
       "Transaction ID       0\n",
       "Item                54\n",
       "Quantity           479\n",
       "Price Per Unit      54\n",
       "Total Spent        530\n",
       "Payment Method    3178\n",
       "Location          3961\n",
       "dtype: int64"
      ]
     },
     "execution_count": 40,
     "metadata": {},
     "output_type": "execute_result"
    }
   ],
   "source": [
    "df.isna().sum()"
   ]
  },
  {
   "cell_type": "code",
   "execution_count": 41,
   "id": "8bc7a5b7-68d1-490f-806d-4141b0286d2a",
   "metadata": {},
   "outputs": [],
   "source": [
    "df['Quantity']=df.apply(\n",
    "    lambda row: row['Total Spent']/row['Price Per Unit']\n",
    "    if pd.notna(row['Total Spent']) and pd.notna(row['Price Per Unit'])\n",
    "    else None,\n",
    "    axis = 1\n",
    ")"
   ]
  },
  {
   "cell_type": "code",
   "execution_count": 42,
   "id": "58578f95-1777-4029-932e-c79cad79e2e3",
   "metadata": {},
   "outputs": [
    {
     "data": {
      "text/plain": [
       "Transaction ID       0\n",
       "Item                54\n",
       "Quantity           530\n",
       "Price Per Unit      54\n",
       "Total Spent        530\n",
       "Payment Method    3178\n",
       "Location          3961\n",
       "dtype: int64"
      ]
     },
     "execution_count": 42,
     "metadata": {},
     "output_type": "execute_result"
    }
   ],
   "source": [
    "df.isna().sum()"
   ]
  },
  {
   "cell_type": "code",
   "execution_count": 43,
   "id": "2f56c469-e66d-46bb-a928-9b2e9cf0cee4",
   "metadata": {},
   "outputs": [],
   "source": [
    "columnstodrop=['Payment Method','Location']"
   ]
  },
  {
   "cell_type": "code",
   "execution_count": 44,
   "id": "0223991f-8407-41cd-a51a-503370739c9e",
   "metadata": {},
   "outputs": [],
   "source": [
    "df = df.drop(columns = columnstodrop)"
   ]
  },
  {
   "cell_type": "code",
   "execution_count": 45,
   "id": "aa13476b-4e38-4c47-ad2a-d1082b810be7",
   "metadata": {},
   "outputs": [
    {
     "data": {
      "text/plain": [
       "Transaction ID      0\n",
       "Item               54\n",
       "Quantity          530\n",
       "Price Per Unit     54\n",
       "Total Spent       530\n",
       "dtype: int64"
      ]
     },
     "execution_count": 45,
     "metadata": {},
     "output_type": "execute_result"
    }
   ],
   "source": [
    "df.isna().sum()"
   ]
  },
  {
   "cell_type": "code",
   "execution_count": 46,
   "id": "5995e392-9eae-49cf-b385-195252209f50",
   "metadata": {},
   "outputs": [
    {
     "data": {
      "text/html": [
       "<div>\n",
       "<style scoped>\n",
       "    .dataframe tbody tr th:only-of-type {\n",
       "        vertical-align: middle;\n",
       "    }\n",
       "\n",
       "    .dataframe tbody tr th {\n",
       "        vertical-align: top;\n",
       "    }\n",
       "\n",
       "    .dataframe thead th {\n",
       "        text-align: right;\n",
       "    }\n",
       "</style>\n",
       "<table border=\"1\" class=\"dataframe\">\n",
       "  <thead>\n",
       "    <tr style=\"text-align: right;\">\n",
       "      <th></th>\n",
       "      <th>Quantity</th>\n",
       "      <th>Price Per Unit</th>\n",
       "      <th>Total Spent</th>\n",
       "    </tr>\n",
       "  </thead>\n",
       "  <tbody>\n",
       "    <tr>\n",
       "      <th>count</th>\n",
       "      <td>9470.000000</td>\n",
       "      <td>9946.000000</td>\n",
       "      <td>9470.000000</td>\n",
       "    </tr>\n",
       "    <tr>\n",
       "      <th>mean</th>\n",
       "      <td>3.026610</td>\n",
       "      <td>2.947667</td>\n",
       "      <td>8.941235</td>\n",
       "    </tr>\n",
       "    <tr>\n",
       "      <th>std</th>\n",
       "      <td>1.419331</td>\n",
       "      <td>1.280653</td>\n",
       "      <td>6.005771</td>\n",
       "    </tr>\n",
       "    <tr>\n",
       "      <th>min</th>\n",
       "      <td>1.000000</td>\n",
       "      <td>1.000000</td>\n",
       "      <td>1.000000</td>\n",
       "    </tr>\n",
       "    <tr>\n",
       "      <th>25%</th>\n",
       "      <td>2.000000</td>\n",
       "      <td>2.000000</td>\n",
       "      <td>4.000000</td>\n",
       "    </tr>\n",
       "    <tr>\n",
       "      <th>50%</th>\n",
       "      <td>3.000000</td>\n",
       "      <td>3.000000</td>\n",
       "      <td>8.000000</td>\n",
       "    </tr>\n",
       "    <tr>\n",
       "      <th>75%</th>\n",
       "      <td>4.000000</td>\n",
       "      <td>4.000000</td>\n",
       "      <td>12.000000</td>\n",
       "    </tr>\n",
       "    <tr>\n",
       "      <th>max</th>\n",
       "      <td>5.000000</td>\n",
       "      <td>5.000000</td>\n",
       "      <td>25.000000</td>\n",
       "    </tr>\n",
       "  </tbody>\n",
       "</table>\n",
       "</div>"
      ],
      "text/plain": [
       "          Quantity  Price Per Unit  Total Spent\n",
       "count  9470.000000     9946.000000  9470.000000\n",
       "mean      3.026610        2.947667     8.941235\n",
       "std       1.419331        1.280653     6.005771\n",
       "min       1.000000        1.000000     1.000000\n",
       "25%       2.000000        2.000000     4.000000\n",
       "50%       3.000000        3.000000     8.000000\n",
       "75%       4.000000        4.000000    12.000000\n",
       "max       5.000000        5.000000    25.000000"
      ]
     },
     "execution_count": 46,
     "metadata": {},
     "output_type": "execute_result"
    }
   ],
   "source": [
    "df.describe()"
   ]
  },
  {
   "cell_type": "code",
   "execution_count": 47,
   "id": "e6768381-0ddc-4ab8-ad67-208067422daf",
   "metadata": {},
   "outputs": [],
   "source": [
    "df = pd.read_csv(\"NEW.csv\")"
   ]
  },
  {
   "cell_type": "code",
   "execution_count": 48,
   "id": "9fe5a674-ca6c-4d44-b691-c3330c6b960d",
   "metadata": {},
   "outputs": [],
   "source": [
    "EmptyTransctionDates=df[df['Transaction Date'].isna()]"
   ]
  },
  {
   "cell_type": "code",
   "execution_count": 49,
   "id": "52d21997-0322-4773-aedd-edcd4d943ad9",
   "metadata": {},
   "outputs": [],
   "source": [
    "EmptyTransctionDates.to_csv('EmptyTransctionDates.csv')"
   ]
  },
  {
   "cell_type": "code",
   "execution_count": 50,
   "id": "882f7977-35cf-4bce-9c45-5c5a1c64ca2e",
   "metadata": {},
   "outputs": [],
   "source": [
    "df=df.dropna(subset = ['Quantity'])"
   ]
  },
  {
   "cell_type": "code",
   "execution_count": 51,
   "id": "591c2418-fe2e-4084-9493-fbc1fc3c1662",
   "metadata": {},
   "outputs": [
    {
     "data": {
      "text/html": [
       "<div>\n",
       "<style scoped>\n",
       "    .dataframe tbody tr th:only-of-type {\n",
       "        vertical-align: middle;\n",
       "    }\n",
       "\n",
       "    .dataframe tbody tr th {\n",
       "        vertical-align: top;\n",
       "    }\n",
       "\n",
       "    .dataframe thead th {\n",
       "        text-align: right;\n",
       "    }\n",
       "</style>\n",
       "<table border=\"1\" class=\"dataframe\">\n",
       "  <thead>\n",
       "    <tr style=\"text-align: right;\">\n",
       "      <th></th>\n",
       "      <th>Unnamed: 0</th>\n",
       "      <th>Quantity</th>\n",
       "      <th>Price Per Unit</th>\n",
       "      <th>Total Spent</th>\n",
       "    </tr>\n",
       "  </thead>\n",
       "  <tbody>\n",
       "    <tr>\n",
       "      <th>count</th>\n",
       "      <td>9470.000000</td>\n",
       "      <td>9470.000000</td>\n",
       "      <td>9470.000000</td>\n",
       "      <td>9470.000000</td>\n",
       "    </tr>\n",
       "    <tr>\n",
       "      <th>mean</th>\n",
       "      <td>5001.133474</td>\n",
       "      <td>3.026610</td>\n",
       "      <td>2.950106</td>\n",
       "      <td>8.941235</td>\n",
       "    </tr>\n",
       "    <tr>\n",
       "      <th>std</th>\n",
       "      <td>2885.433790</td>\n",
       "      <td>1.419331</td>\n",
       "      <td>1.279862</td>\n",
       "      <td>6.005771</td>\n",
       "    </tr>\n",
       "    <tr>\n",
       "      <th>min</th>\n",
       "      <td>0.000000</td>\n",
       "      <td>1.000000</td>\n",
       "      <td>1.000000</td>\n",
       "      <td>1.000000</td>\n",
       "    </tr>\n",
       "    <tr>\n",
       "      <th>25%</th>\n",
       "      <td>2496.250000</td>\n",
       "      <td>2.000000</td>\n",
       "      <td>2.000000</td>\n",
       "      <td>4.000000</td>\n",
       "    </tr>\n",
       "    <tr>\n",
       "      <th>50%</th>\n",
       "      <td>5005.500000</td>\n",
       "      <td>3.000000</td>\n",
       "      <td>3.000000</td>\n",
       "      <td>8.000000</td>\n",
       "    </tr>\n",
       "    <tr>\n",
       "      <th>75%</th>\n",
       "      <td>7504.750000</td>\n",
       "      <td>4.000000</td>\n",
       "      <td>4.000000</td>\n",
       "      <td>12.000000</td>\n",
       "    </tr>\n",
       "    <tr>\n",
       "      <th>max</th>\n",
       "      <td>9999.000000</td>\n",
       "      <td>5.000000</td>\n",
       "      <td>5.000000</td>\n",
       "      <td>25.000000</td>\n",
       "    </tr>\n",
       "  </tbody>\n",
       "</table>\n",
       "</div>"
      ],
      "text/plain": [
       "        Unnamed: 0     Quantity  Price Per Unit  Total Spent\n",
       "count  9470.000000  9470.000000     9470.000000  9470.000000\n",
       "mean   5001.133474     3.026610        2.950106     8.941235\n",
       "std    2885.433790     1.419331        1.279862     6.005771\n",
       "min       0.000000     1.000000        1.000000     1.000000\n",
       "25%    2496.250000     2.000000        2.000000     4.000000\n",
       "50%    5005.500000     3.000000        3.000000     8.000000\n",
       "75%    7504.750000     4.000000        4.000000    12.000000\n",
       "max    9999.000000     5.000000        5.000000    25.000000"
      ]
     },
     "execution_count": 51,
     "metadata": {},
     "output_type": "execute_result"
    }
   ],
   "source": [
    "df.describe()"
   ]
  },
  {
   "cell_type": "code",
   "execution_count": 52,
   "id": "da755af7-9141-40f4-ab05-a693cdcfe4eb",
   "metadata": {},
   "outputs": [],
   "source": [
    "missingdates=df[df['Transaction Date'].isna()]"
   ]
  },
  {
   "cell_type": "code",
   "execution_count": 53,
   "id": "0ddac2a1-1285-4d36-9270-61724181d3c3",
   "metadata": {},
   "outputs": [
    {
     "data": {
      "text/html": [
       "<div>\n",
       "<style scoped>\n",
       "    .dataframe tbody tr th:only-of-type {\n",
       "        vertical-align: middle;\n",
       "    }\n",
       "\n",
       "    .dataframe tbody tr th {\n",
       "        vertical-align: top;\n",
       "    }\n",
       "\n",
       "    .dataframe thead th {\n",
       "        text-align: right;\n",
       "    }\n",
       "</style>\n",
       "<table border=\"1\" class=\"dataframe\">\n",
       "  <thead>\n",
       "    <tr style=\"text-align: right;\">\n",
       "      <th></th>\n",
       "      <th>Unnamed: 0</th>\n",
       "      <th>Transaction Date</th>\n",
       "      <th>Transaction ID</th>\n",
       "      <th>Item</th>\n",
       "      <th>Quantity</th>\n",
       "      <th>Price Per Unit</th>\n",
       "      <th>Total Spent</th>\n",
       "    </tr>\n",
       "  </thead>\n",
       "  <tbody>\n",
       "    <tr>\n",
       "      <th>9540</th>\n",
       "      <td>9540</td>\n",
       "      <td>NaN</td>\n",
       "      <td>TXN_3051279</td>\n",
       "      <td>Smoothie</td>\n",
       "      <td>2.0</td>\n",
       "      <td>4.0</td>\n",
       "      <td>8.0</td>\n",
       "    </tr>\n",
       "    <tr>\n",
       "      <th>9541</th>\n",
       "      <td>9541</td>\n",
       "      <td>NaN</td>\n",
       "      <td>TXN_7640952</td>\n",
       "      <td>Juice</td>\n",
       "      <td>4.0</td>\n",
       "      <td>3.0</td>\n",
       "      <td>12.0</td>\n",
       "    </tr>\n",
       "    <tr>\n",
       "      <th>9542</th>\n",
       "      <td>9542</td>\n",
       "      <td>NaN</td>\n",
       "      <td>TXN_7710508</td>\n",
       "      <td>Cookie</td>\n",
       "      <td>5.0</td>\n",
       "      <td>1.0</td>\n",
       "      <td>5.0</td>\n",
       "    </tr>\n",
       "    <tr>\n",
       "      <th>9543</th>\n",
       "      <td>9543</td>\n",
       "      <td>NaN</td>\n",
       "      <td>TXN_2091733</td>\n",
       "      <td>Salad</td>\n",
       "      <td>1.0</td>\n",
       "      <td>5.0</td>\n",
       "      <td>5.0</td>\n",
       "    </tr>\n",
       "    <tr>\n",
       "      <th>9544</th>\n",
       "      <td>9544</td>\n",
       "      <td>NaN</td>\n",
       "      <td>TXN_7028009</td>\n",
       "      <td>Juice</td>\n",
       "      <td>4.0</td>\n",
       "      <td>3.0</td>\n",
       "      <td>12.0</td>\n",
       "    </tr>\n",
       "    <tr>\n",
       "      <th>...</th>\n",
       "      <td>...</td>\n",
       "      <td>...</td>\n",
       "      <td>...</td>\n",
       "      <td>...</td>\n",
       "      <td>...</td>\n",
       "      <td>...</td>\n",
       "      <td>...</td>\n",
       "    </tr>\n",
       "    <tr>\n",
       "      <th>9995</th>\n",
       "      <td>9995</td>\n",
       "      <td>NaN</td>\n",
       "      <td>TXN_9460419</td>\n",
       "      <td>Juice</td>\n",
       "      <td>1.0</td>\n",
       "      <td>3.0</td>\n",
       "      <td>3.0</td>\n",
       "    </tr>\n",
       "    <tr>\n",
       "      <th>9996</th>\n",
       "      <td>9996</td>\n",
       "      <td>NaN</td>\n",
       "      <td>TXN_8253472</td>\n",
       "      <td>Juice</td>\n",
       "      <td>1.0</td>\n",
       "      <td>3.0</td>\n",
       "      <td>3.0</td>\n",
       "    </tr>\n",
       "    <tr>\n",
       "      <th>9997</th>\n",
       "      <td>9997</td>\n",
       "      <td>NaN</td>\n",
       "      <td>TXN_3130865</td>\n",
       "      <td>Juice</td>\n",
       "      <td>3.0</td>\n",
       "      <td>3.0</td>\n",
       "      <td>9.0</td>\n",
       "    </tr>\n",
       "    <tr>\n",
       "      <th>9998</th>\n",
       "      <td>9998</td>\n",
       "      <td>NaN</td>\n",
       "      <td>TXN_9226047</td>\n",
       "      <td>Smoothie</td>\n",
       "      <td>3.0</td>\n",
       "      <td>4.0</td>\n",
       "      <td>12.0</td>\n",
       "    </tr>\n",
       "    <tr>\n",
       "      <th>9999</th>\n",
       "      <td>9999</td>\n",
       "      <td>NaN</td>\n",
       "      <td>TXN_9594133</td>\n",
       "      <td>Juice</td>\n",
       "      <td>5.0</td>\n",
       "      <td>3.0</td>\n",
       "      <td>15.0</td>\n",
       "    </tr>\n",
       "  </tbody>\n",
       "</table>\n",
       "<p>432 rows × 7 columns</p>\n",
       "</div>"
      ],
      "text/plain": [
       "      Unnamed: 0 Transaction Date Transaction ID      Item  Quantity  \\\n",
       "9540        9540              NaN    TXN_3051279  Smoothie       2.0   \n",
       "9541        9541              NaN    TXN_7640952     Juice       4.0   \n",
       "9542        9542              NaN    TXN_7710508    Cookie       5.0   \n",
       "9543        9543              NaN    TXN_2091733     Salad       1.0   \n",
       "9544        9544              NaN    TXN_7028009     Juice       4.0   \n",
       "...          ...              ...            ...       ...       ...   \n",
       "9995        9995              NaN    TXN_9460419     Juice       1.0   \n",
       "9996        9996              NaN    TXN_8253472     Juice       1.0   \n",
       "9997        9997              NaN    TXN_3130865     Juice       3.0   \n",
       "9998        9998              NaN    TXN_9226047  Smoothie       3.0   \n",
       "9999        9999              NaN    TXN_9594133     Juice       5.0   \n",
       "\n",
       "      Price Per Unit  Total Spent  \n",
       "9540             4.0          8.0  \n",
       "9541             3.0         12.0  \n",
       "9542             1.0          5.0  \n",
       "9543             5.0          5.0  \n",
       "9544             3.0         12.0  \n",
       "...              ...          ...  \n",
       "9995             3.0          3.0  \n",
       "9996             3.0          3.0  \n",
       "9997             3.0          9.0  \n",
       "9998             4.0         12.0  \n",
       "9999             3.0         15.0  \n",
       "\n",
       "[432 rows x 7 columns]"
      ]
     },
     "execution_count": 53,
     "metadata": {},
     "output_type": "execute_result"
    }
   ],
   "source": [
    "missingdates"
   ]
  },
  {
   "cell_type": "code",
   "execution_count": 54,
   "id": "d51fa934-92e9-4690-b75e-0babcf71f26e",
   "metadata": {},
   "outputs": [],
   "source": [
    "Start_Date=pd.to_datetime('2023-01-01')"
   ]
  },
  {
   "cell_type": "code",
   "execution_count": 55,
   "id": "9f9b14ea-108c-4cef-8d1f-50a9779afb1b",
   "metadata": {},
   "outputs": [],
   "source": [
    "End_Date=pd.to_datetime('2023-12-31')"
   ]
  },
  {
   "cell_type": "code",
   "execution_count": 56,
   "id": "0893f03d-6b7b-4457-9a88-b97beb947e4c",
   "metadata": {},
   "outputs": [],
   "source": [
    "random_dates=pd.to_datetime(np.random.choice(pd.date_range(Start_Date,End_Date), size = len(missingdates)))"
   ]
  },
  {
   "cell_type": "code",
   "execution_count": 57,
   "id": "be3aeb53-f90a-44fc-9f3d-d700580ecaeb",
   "metadata": {},
   "outputs": [],
   "source": [
    "missing_mask = df['Transaction Date'].isna()"
   ]
  },
  {
   "cell_type": "code",
   "execution_count": 58,
   "id": "b2a6386c-409c-4f53-8b00-3fe7143014fb",
   "metadata": {},
   "outputs": [],
   "source": [
    "df.loc[missing_mask, 'Transaction Date'] = random_dates[:sum(missing_mask)]"
   ]
  },
  {
   "cell_type": "code",
   "execution_count": 59,
   "id": "ae9785f3-0cd5-4153-9dd5-002210821296",
   "metadata": {},
   "outputs": [],
   "source": [
    "df['Transaction Date']=pd.to_datetime(df['Transaction Date'])"
   ]
  },
  {
   "cell_type": "code",
   "execution_count": 60,
   "id": "e85694aa-98fd-4912-a670-fbdc380ada25",
   "metadata": {},
   "outputs": [],
   "source": [
    "df=df.drop(columns = 'Unnamed: 0')"
   ]
  },
  {
   "cell_type": "code",
   "execution_count": 61,
   "id": "202c5228-11cd-4089-b1a9-d379a8f15ecc",
   "metadata": {},
   "outputs": [],
   "source": [
    "df = df.sort_values(by = 'Transaction Date')"
   ]
  },
  {
   "cell_type": "code",
   "execution_count": 62,
   "id": "1fc2ea95-0cc5-4609-9053-1b162cdc601e",
   "metadata": {},
   "outputs": [
    {
     "data": {
      "text/plain": [
       "Transaction Date    0\n",
       "Transaction ID      0\n",
       "Item                0\n",
       "Quantity            0\n",
       "Price Per Unit      0\n",
       "Total Spent         0\n",
       "dtype: int64"
      ]
     },
     "execution_count": 62,
     "metadata": {},
     "output_type": "execute_result"
    }
   ],
   "source": [
    "df.isna().sum()"
   ]
  },
  {
   "cell_type": "code",
   "execution_count": 63,
   "id": "d34d2c7e-7fe3-42ba-8400-31c09db239f6",
   "metadata": {},
   "outputs": [
    {
     "name": "stdout",
     "output_type": "stream",
     "text": [
      "<class 'pandas.core.frame.DataFrame'>\n",
      "Index: 9470 entries, 0 to 9525\n",
      "Data columns (total 6 columns):\n",
      " #   Column            Non-Null Count  Dtype         \n",
      "---  ------            --------------  -----         \n",
      " 0   Transaction Date  9470 non-null   datetime64[ns]\n",
      " 1   Transaction ID    9470 non-null   object        \n",
      " 2   Item              9470 non-null   object        \n",
      " 3   Quantity          9470 non-null   float64       \n",
      " 4   Price Per Unit    9470 non-null   float64       \n",
      " 5   Total Spent       9470 non-null   float64       \n",
      "dtypes: datetime64[ns](1), float64(3), object(2)\n",
      "memory usage: 517.9+ KB\n"
     ]
    }
   ],
   "source": [
    "df.info()"
   ]
  },
  {
   "cell_type": "code",
   "execution_count": 68,
   "id": "70e0134e-4e9c-4036-b10a-4376a861b3ad",
   "metadata": {},
   "outputs": [],
   "source": [
    "df.to_csv('dirty_cafe_sales-cleaned.csv')"
   ]
  },
  {
   "cell_type": "code",
   "execution_count": null,
   "id": "f03ec22d-d584-4727-a4d3-7a0191a09c50",
   "metadata": {},
   "outputs": [],
   "source": []
  }
 ],
 "metadata": {
  "kernelspec": {
   "display_name": "Python [conda env:base] *",
   "language": "python",
   "name": "conda-base-py"
  },
  "language_info": {
   "codemirror_mode": {
    "name": "ipython",
    "version": 3
   },
   "file_extension": ".py",
   "mimetype": "text/x-python",
   "name": "python",
   "nbconvert_exporter": "python",
   "pygments_lexer": "ipython3",
   "version": "3.12.7"
  }
 },
 "nbformat": 4,
 "nbformat_minor": 5
}
